{
 "cells": [
  {
   "cell_type": "code",
   "execution_count": 1,
   "id": "367b8710",
   "metadata": {},
   "outputs": [],
   "source": [
    "# All necessary library\n",
    "import json\n",
    "import time\n",
    "import requests\n",
    "import pandas as pd"
   ]
  },
  {
   "cell_type": "code",
   "execution_count": 2,
   "id": "67ffa426",
   "metadata": {},
   "outputs": [],
   "source": [
    "# Set the country. Exp : Malaysia, United Kingdom\n",
    "insert_country = \"Insert here\"\n",
    "\n",
    "# To replace space with %20, can be replace with + sign too\n",
    "country_replace = insert_country.replace(\" \", \"%20\")"
   ]
  },
  {
   "cell_type": "code",
   "execution_count": 3,
   "id": "5dc32c1c",
   "metadata": {},
   "outputs": [
    {
     "name": "stdout",
     "output_type": "stream",
     "text": [
      "http://universities.hipolabs.com/search?country=Insert%20here\n"
     ]
    }
   ],
   "source": [
    "# Declaring the url\n",
    "pagging_url = \"http://universities.hipolabs.com/search?country=\" + country_replace\n",
    "print(pagging_url)\n",
    "\n",
    "# To read json data\n",
    "r = requests.get(pagging_url)\n",
    "r = r.json()\n",
    "\n",
    "# Because in this data got duplicate, need to prevent it on the last repetition. So, divide half\n",
    "# Exp Data: Uniten, UM, UMT, Uniten, UM, UMT \n",
    "total_university = len(r)/2"
   ]
  },
  {
   "cell_type": "code",
   "execution_count": 4,
   "id": "7f56a954",
   "metadata": {},
   "outputs": [
    {
     "name": "stdout",
     "output_type": "stream",
     "text": [
      "Note : Please recorrect your country spelling or the chosen country is not in the databases\n"
     ]
    }
   ],
   "source": [
    "# Retrieving the data if the country spelling & spacing is correct and the data is there in database\n",
    "if total_university != 0.0:\n",
    "    results=[]\n",
    "    \n",
    "    for data in r:\n",
    "        transformed_data = {\n",
    "            'university_name': data['name'],\n",
    "            'state': data['state-province'],\n",
    "            'nation': data['country'],\n",
    "            'country_code': data['alpha_two_code'],\n",
    "            'email_domain': data['domains'][0],\n",
    "            'website': data['web_pages'][0]\n",
    "        }\n",
    "        results.append(transformed_data)\n",
    "        print(\"University Added No\", len(results),\", \" + transformed_data[\"university_name\"])\n",
    "        \n",
    "        #To prevent duplicate data from come in\n",
    "        if len(results) == total_university:\n",
    "              break\n",
    "\n",
    "\n",
    "\n",
    "    # Save data into CSV\n",
    "    df = pd.DataFrame(results)\n",
    "    df.to_csv('University.csv',\n",
    "              index=False, encoding='utf-8')\n",
    "    \n",
    "# If wrong spelling or spacing for country no data in databases\n",
    "elif total_university == 0.0:\n",
    "    print(\"Note : Please recorrect your country spelling or the chosen country is not in the databases\")\n",
    "    df = \"No data\""
   ]
  },
  {
   "cell_type": "code",
   "execution_count": 5,
   "id": "1dc9bd2b",
   "metadata": {},
   "outputs": [
    {
     "name": "stdout",
     "output_type": "stream",
     "text": [
      "No data\n"
     ]
    }
   ],
   "source": [
    "# To check the data content. \n",
    "print(df)"
   ]
  },
  {
   "cell_type": "code",
   "execution_count": null,
   "id": "83e53ce3",
   "metadata": {},
   "outputs": [],
   "source": []
  }
 ],
 "metadata": {
  "kernelspec": {
   "display_name": "Python 3 (ipykernel)",
   "language": "python",
   "name": "python3"
  },
  "language_info": {
   "codemirror_mode": {
    "name": "ipython",
    "version": 3
   },
   "file_extension": ".py",
   "mimetype": "text/x-python",
   "name": "python",
   "nbconvert_exporter": "python",
   "pygments_lexer": "ipython3",
   "version": "3.9.7"
  }
 },
 "nbformat": 4,
 "nbformat_minor": 5
}
